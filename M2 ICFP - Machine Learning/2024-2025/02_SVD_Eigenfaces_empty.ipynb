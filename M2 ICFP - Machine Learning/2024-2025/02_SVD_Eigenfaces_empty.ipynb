{
 "cells": [
  {
   "cell_type": "markdown",
   "metadata": {},
   "source": [
    "In this notebook, we are interested in unsupervised learning. The goal in particular is to learn a linear projection of feature matrices retaining the largest fraction of information from the original matrix."
   ]
  },
  {
   "cell_type": "code",
   "execution_count": null,
   "metadata": {},
   "outputs": [],
   "source": [
    "# Load the required libraries\n",
    "import matplotlib.pyplot as plt\n",
    "import numpy as np\n",
    "import os\n",
    "import scipy.io\n",
    "from matplotlib.image import imread\n",
    "#import skimage"
   ]
  },
  {
   "cell_type": "markdown",
   "metadata": {},
   "source": [
    "# Compression with SVD"
   ]
  },
  {
   "cell_type": "markdown",
   "metadata": {},
   "source": [
    "SVD constitutes the most basic method to reduce the dimensionality of a feature matrix $X\\in\\mathbb{R}^{d\\times n}$ by seeking a rank-$k$ ($k < d$) linear projection with the smallest Frobenius (or spectral) norm. Mathematically, we are looking for $\\hat{X}\\in\\mathbb{R}^{k\\times n}$ satisfying\n",
    "\\begin{equation}\n",
    "\\min_{\\mathrm{rk}(\\hat{X})\\leq k} \\lVert X - \\hat{X}\\rVert_F^2,\n",
    "\\end{equation}\n",
    "where $\\mathrm{rk}(A)$ is the rank of $A$.\n",
    "According to the **Eckart-Young theorem**, the global minimum of this optimization problem is reached for $\\hat{X}$ given by the Singular Value Decomposition (SVD) of $X$, and retaining only the components associated to the $k$ largest singular values.\n",
    "\n",
    "SVD states that any matrix $X$ can be decomposed as a set of three matrices\n",
    "\\begin{equation}\n",
    "X = U S V^\\mathrm{T},\n",
    "\\end{equation}\n",
    "where $U$ and $V$ are orthonormal matrices ($U^\\mathrm{T}U = V^\\mathrm{T}V = I$), and\n",
    "- $U \\in \\mathbb{R}^{d\\times d}$ contains in columns the eigenvectors of $XX^\\mathrm{T}$,\n",
    "- $V \\in \\mathbb{R}^{n\\times n}$ contains in columns the eigenvectors of $X^\\mathrm{T}X$,\n",
    "- $S \\in \\mathbb{R}^{d\\times n}$ is a diagonal matrix containing the singular values $s_i$.\n",
    "\n",
    "2 results about SVD are of importance for what follows. First, since both $S_\\mathrm{L} = XX^\\mathrm{T}$ and $S_\\mathrm{R} = X^\\mathrm{T}X$ are positive-definite matrices, all their eigenvalues are positive ($\\forall i, \\lambda_i^\\mathrm{L} \\geq 0, \\lambda_i^\\mathrm{R} \\geq 0$). Second, if we order the eigenvalues of both matrices, then they are the same up to the order $m=\\min(n,d)$. Above $m$, all the eigenvalues can be shown to be exactly zero. The singular values are defined as $s_i = \\sqrt{\\lambda_i^\\mathrm{L}}$.\n",
    "\n",
    "A more 'memory-efficient' (but equivalent) result takes only $m$ columns in $U$ and $V$, therefore removing the zero singular values.\n",
    "\n",
    "#### How to find the singular values?\n",
    "\n",
    "Let us focus on first on finding a rank-one approximation of a matrix $X$. Any rank-one matrix can be written as $\\sigma u v^\\mathrm{T}$. Then the goal is to solve\n",
    "\\begin{equation}\n",
    "\\operatorname*{argmin}_{\\sigma, v, u} \\lVert X - \\sigma u v^\\mathrm{T} \\rVert^2_F,\n",
    "\\end{equation}\n",
    "under the constraint that $\\lVert u \\rVert = \\lVert v \\rVert = 1$.\n",
    "\n",
    "0. Perform this minimization. How would you then get a rank-two approximation and what would it give for $u_2$, $v_2$, and $\\sigma_2$? Comment."
   ]
  },
  {
   "cell_type": "markdown",
   "metadata": {},
   "source": [
    "Let us first perform SVD of a single image of size $2000\\times 1500$ taken from the ```DATA``` folder called ```dog.jpg```.\n"
   ]
  },
  {
   "cell_type": "code",
   "execution_count": null,
   "metadata": {},
   "outputs": [],
   "source": [
    "plt.rcParams['figure.figsize'] = [16, 8]\n",
    "\n",
    "\n",
    "A = imread(os.path.join('.','DATA','dog.jpg')) # Load the image\n",
    "X = np.mean(A, -1); # Convert RGB to grayscale\n",
    "\n",
    "img = plt.imshow(X)\n",
    "img.set_cmap('gray')\n",
    "plt.axis('off')\n",
    "plt.show()"
   ]
  },
  {
   "cell_type": "markdown",
   "metadata": {},
   "source": [
    "1. Checkout the [`np.linalg.svd`](https://docs.scipy.org/doc/numpy-1.10.4/reference/generated/numpy.linalg.svd.html) function, and **use it to decompose the input image $X$**. We will be using the 'full_matrices=False' option so that the matrices takes less memory space. **Check that the SVD gives back the full matrix.**"
   ]
  },
  {
   "cell_type": "code",
   "execution_count": null,
   "metadata": {},
   "outputs": [],
   "source": [
    "# Your code to perform SVD\n",
    "\n",
    "# Your code to check the shapes\n",
    "\n",
    "# Let's transform S into a matrix\n",
    "S = np.diag(S)\n",
    "print('new S shape = ' + str(S.shape))\n",
    "\n",
    "print('X=USV.T? ' + str(np.sum(np.mean(X-U@S@VT, axis=1)) < 1e-6 ))"
   ]
  },
  {
   "cell_type": "markdown",
   "metadata": {},
   "source": [
    "2. Explore the compression with several values $r$ of singular values. **Explain what you get when varying $r$.**"
   ]
  },
  {
   "cell_type": "code",
   "execution_count": null,
   "metadata": {},
   "outputs": [],
   "source": [
    "j = 0\n",
    "for r in (5, 20, 100, 200):\n",
    "    Xapprox = # Your code to construct the approximation\n",
    "    plt.figure(j+1)\n",
    "    j += 1\n",
    "    img = plt.imshow(Xapprox)\n",
    "    img.set_cmap('gray')\n",
    "    plt.axis('off')\n",
    "    plt.title('r = ' + str(r))\n",
    "    plt.show()"
   ]
  },
  {
   "cell_type": "markdown",
   "metadata": {},
   "source": [
    "3. Compute the cumulative sum of singular values, **how many dimensions are required to retain $80\\%$ of the cumulative sum?**"
   ]
  },
  {
   "cell_type": "code",
   "execution_count": null,
   "metadata": {},
   "outputs": [],
   "source": [
    "# Your code to plot and compute the cumulative sum of singular values"
   ]
  },
  {
   "cell_type": "markdown",
   "metadata": {},
   "source": [
    "# [Eigenface](https://en.wikipedia.org/wiki/Eigenface)\n",
    "\n",
    "The Eigenface dataset is a collection of facial images used computer vision and pattern recognition, particularly for facial recognition tasks. \n",
    "Here, we use a subset of it contained in the folder ```DATA/allFaces.mat```. It consists of facial images of $n = 38$ individuals under between 59 and 64 lighting conditions. Each image is $192\\times168$, hence contains $32,256$ pixels."
   ]
  },
  {
   "cell_type": "code",
   "execution_count": null,
   "metadata": {},
   "outputs": [],
   "source": [
    "# Load the images\n",
    "mat_contents = scipy.io.loadmat(os.path.join('.','DATA','allFaces.mat'))\n",
    "print(mat_contents.keys())\n",
    "faces = mat_contents['faces']\n",
    "W = int(mat_contents['m'])\n",
    "L = int(mat_contents['n'])\n",
    "nfaces = np.ndarray.flatten(mat_contents['nfaces'])\n",
    "print(L, W)"
   ]
  },
  {
   "cell_type": "code",
   "execution_count": null,
   "metadata": {},
   "outputs": [],
   "source": [
    "# print the number of faces (lighting conditions) per individuals\n",
    "print(nfaces)\n",
    "print(faces.shape)"
   ]
  },
  {
   "cell_type": "markdown",
   "metadata": {},
   "source": [
    "The list above gives the number of different lightings for each individual.\n",
    "We will use the 36 first individuals as the training data, and keep the two last as test data.\n",
    "\n",
    "Let us now plot the different images for each individual."
   ]
  },
  {
   "cell_type": "code",
   "execution_count": null,
   "metadata": {},
   "outputs": [],
   "source": [
    "allPersons = np.zeros((L*6,W*6))\n",
    "count = 0\n",
    "\n",
    "for j in range(6):\n",
    "    for k in range(6):\n",
    "        allPersons[j*L : (j+1)*L, k*W : (k+1)*W] = np.reshape(faces[:,np.sum(nfaces[:count])],(W,L)).T\n",
    "        count += 1\n",
    "\n",
    "img = plt.imshow(allPersons)\n",
    "img.set_cmap('gray')\n",
    "plt.axis('off')\n",
    "plt.show()"
   ]
  },
  {
   "cell_type": "markdown",
   "metadata": {},
   "source": [
    "Now we check for each person the different ligthing conditions."
   ]
  },
  {
   "cell_type": "code",
   "execution_count": null,
   "metadata": {},
   "outputs": [],
   "source": [
    "for person in range(len(nfaces)):\n",
    "    subset = faces[:,sum(nfaces[:person]) : sum(nfaces[:(person+1)])]\n",
    "    allFaces = np.zeros((L*8,W*8))\n",
    "    \n",
    "    count = 0\n",
    "    \n",
    "    for j in range(8):\n",
    "        for k in range(8):\n",
    "            if count < nfaces[person]:\n",
    "                allFaces[j*L:(j+1)*L,k*W:(k+1)*W] = np.reshape(subset[:,count],(W,L)).T\n",
    "                count += 1\n",
    "                \n",
    "    img = plt.imshow(allFaces)\n",
    "    img.set_cmap('gray')\n",
    "    plt.axis('off')\n",
    "    plt.show()"
   ]
  },
  {
   "cell_type": "markdown",
   "metadata": {},
   "source": [
    "4. Center the training dataset along the pixel dimension. **Visualise the average face**."
   ]
  },
  {
   "cell_type": "code",
   "execution_count": null,
   "metadata": {
    "scrolled": true
   },
   "outputs": [],
   "source": [
    "# We use the first 36 people for training data\n",
    "# We first compute the average face\n",
    "trainingFaces = faces[:, :np.sum(nfaces[:36])] # size L*W=32256 by 2282\n",
    "avgFace = # Your code to compute the average\n",
    "\n",
    "# Center the training dataset along each pixel\n",
    "\n",
    "# Plot the average face"
   ]
  },
  {
   "cell_type": "markdown",
   "metadata": {},
   "source": [
    "5. Perform SVD on the centered dataset to find the matrices $U$, $S$, and $V$ that we will use to project the data. **What matrix should we use for projections? Visualise some eigenfaces (columns of the said matrix).**"
   ]
  },
  {
   "cell_type": "code",
   "execution_count": null,
   "metadata": {},
   "outputs": [],
   "source": [
    "# Your code to perform SVD on the training data"
   ]
  },
  {
   "cell_type": "code",
   "execution_count": null,
   "metadata": {},
   "outputs": [],
   "source": [
    "# Your code to check the shapes and visualise a mode of the SVD"
   ]
  },
  {
   "cell_type": "markdown",
   "metadata": {},
   "source": [
    "Below we plot the first 100 eigenfaces."
   ]
  },
  {
   "cell_type": "code",
   "execution_count": null,
   "metadata": {},
   "outputs": [],
   "source": [
    "MATRIX_CHOICE = # Your choice of matrix\n",
    "FirstEF = np.zeros((L*10,W*10))\n",
    "count = 0\n",
    "for j in range(10):\n",
    "    for k in range(10):\n",
    "        FirstEF[j*L : (j+1)*L, k*W : (k+1)*W] = np.reshape(MATRIX_CHOICE[:,count],(W,L)).T\n",
    "        count += 1\n",
    "        \n",
    "img = plt.imshow(FirstEF)\n",
    "img.set_cmap('gray')\n",
    "plt.axis('off')\n",
    "plt.show()"
   ]
  },
  {
   "cell_type": "markdown",
   "metadata": {},
   "source": [
    "6. Compute the eigenface reconstruction on a test image for various order $r$. Comment."
   ]
  },
  {
   "cell_type": "code",
   "execution_count": null,
   "metadata": {},
   "outputs": [],
   "source": [
    "## Now show eigenface reconstruction of image that was omitted from test set\n",
    "\n",
    "testFace = faces[:,np.sum(nfaces[:36])] # First face of person 37\n",
    "plt.imshow(np.reshape(testFace,(W,L)).T)\n",
    "plt.set_cmap('gray')\n",
    "plt.title('Original Image')\n",
    "plt.axis('off')\n",
    "plt.show()\n",
    "\n",
    "r_list = [25, 50, 100, 200, 400, 800, 1600]\n",
    "\n",
    "for r in r_list:\n",
    "    reconFace = # Your code to reconstruct the face\n",
    "    img = plt.imshow(np.reshape(reconFace,(W,L)).T)\n",
    "    img.set_cmap('gray')\n",
    "    plt.title('r = ' + str(r))\n",
    "    plt.axis('off')\n",
    "    plt.show()\n",
    "\n",
    "# Didn't you forget anything?"
   ]
  },
  {
   "cell_type": "markdown",
   "metadata": {},
   "source": [
    "7. What do you think would happen for an image that is not a face at all? Test your intuition with the dog image from the beginning that we rescale below to the same size."
   ]
  },
  {
   "cell_type": "code",
   "execution_count": null,
   "metadata": {},
   "outputs": [],
   "source": [
    "import cv2\n",
    "img = cv2.imread(os.path.join('.','DATA','dog.jpg'))\n",
    "res = cv2.resize(img, dsize=(168, 192), interpolation=cv2.INTER_CUBIC)\n",
    "X_s = np.mean(res, -1); # Convert RGB to grayscale\n",
    "\n",
    "testFace = np.reshape(X_s.T,(-1,))\n",
    "plt.imshow(np.reshape(testFace,(W,L)).T)\n",
    "plt.set_cmap('gray')\n",
    "plt.title('Original Image')\n",
    "plt.axis('off')\n",
    "plt.show()"
   ]
  },
  {
   "cell_type": "code",
   "execution_count": null,
   "metadata": {},
   "outputs": [],
   "source": [
    "# Your code to reconstruct the new test image for various r"
   ]
  },
  {
   "cell_type": "markdown",
   "metadata": {},
   "source": [
    "This kind of singular value decomposition is in fact very much used to recognize faces of different person. By projecting faces (with different light conditions or orientations, etc.) in the appropriate subspace, we suppress the 'noisy' variability in the data and retain only the essential information of the face. In the subspace, we can therefore compare two images and decide whether it is the same person.\n",
    "\n",
    "8. Explore this idea by projecting two persons (say 2 and 7) in a 2D SVD space (say modes 4 and 5)."
   ]
  },
  {
   "cell_type": "code",
   "execution_count": null,
   "metadata": {},
   "outputs": [],
   "source": [
    "## Project person 2 and 7 onto PC5 and PC6\n",
    "\n",
    "P1num = 2 # Person number 2\n",
    "P2num = 7 # Person number 7\n",
    "\n",
    "P1 = faces[:,np.sum(nfaces[:(P1num-1)]):np.sum(nfaces[:P1num])] # Selects all the faces from Person n°P1num\n",
    "P2 = faces[:,np.sum(nfaces[:(P2num-1)]):np.sum(nfaces[:P2num])] # Selects all the faces from Person n°P2num\n",
    "\n",
    "PCAmodes = [4, 5] # Project onto PCA modes 4 and 5\n",
    "# Your code to remove the average and project onto PCA modes\n",
    "\n",
    "\n",
    "# Your code to visualise in the 2D projected space"
   ]
  }
 ],
 "metadata": {
  "kernelspec": {
   "display_name": "Python 3 (ipykernel)",
   "language": "python",
   "name": "python3"
  },
  "language_info": {
   "codemirror_mode": {
    "name": "ipython",
    "version": 3
   },
   "file_extension": ".py",
   "mimetype": "text/x-python",
   "name": "python",
   "nbconvert_exporter": "python",
   "pygments_lexer": "ipython3",
   "version": "3.9.20"
  }
 },
 "nbformat": 4,
 "nbformat_minor": 4
}
