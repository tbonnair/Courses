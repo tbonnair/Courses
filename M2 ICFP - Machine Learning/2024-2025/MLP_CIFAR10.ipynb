{
  "cells": [
    {
      "cell_type": "markdown",
      "metadata": {
        "id": "qepL0u8au9ek"
      },
      "source": [
        "# Basics: overfitting a MLP on CIFAR10"
      ]
    },
    {
      "cell_type": "markdown",
      "source": [
        "# CIFAR-10 dataset\n",
        "\n",
        "In this notebook, we use the CIFAR-10 dataset made of images from 10 classes: plane, car, bird, cat, deer, dog, frog, horse, ship, and truck. The images are all of the same size with $3\\times 32\\times 32$ pixels. The first channel is used for the RGB description of the image with the 2 others are the X and Y position of a pixel.\n",
        "\n",
        "1. What is the machine learning family this problem is about? What is the nature of the input data?\n",
        "\n",
        "2. Enumerate some methods that could be used for such a task.\n",
        "\n",
        "3. We separate the dataset into two parts: train and test. Remind what they are used for."
      ],
      "metadata": {
        "id": "XTyyKZklvFKD"
      }
    },
    {
      "cell_type": "code",
      "source": [
        "import torch\n",
        "import torchvision\n",
        "import torch.nn as nn\n",
        "import torchvision.transforms as t\n",
        "import matplotlib.pyplot as plt\n",
        "import numpy as np\n",
        "\n",
        "# load data\n",
        "to_tensor =  t.ToTensor()\n",
        "normalize = t.Normalize((0.5, 0.5, 0.5), (0.5, 0.5, 0.5))\n",
        "flatten =  t.Lambda(lambda x:x.view(-1))\n",
        "\n",
        "transform_list = t.Compose([to_tensor, normalize, flatten])\n",
        "train_set = torchvision.datasets.CIFAR10(root='.', train=True, transform=transform_list, download=True)\n",
        "test_set = torchvision.datasets.CIFAR10(root='.', train=False, transform=transform_list, download=True)\n",
        "\n",
        "train_loader = torch.utils.data.DataLoader(train_set, batch_size=64)\n",
        "test_loader = torch.utils.data.DataLoader(test_set, batch_size=64)\n",
        "\n",
        "classes = ('plane', 'car', 'bird', 'cat',\n",
        "           'deer', 'dog', 'frog', 'horse', 'ship', 'truck')"
      ],
      "metadata": {
        "colab": {
          "base_uri": "https://localhost:8080/"
        },
        "id": "gwxxMwW6vSKJ",
        "outputId": "5db540cc-6a98-44a6-f4ce-db21239af190"
      },
      "execution_count": null,
      "outputs": [
        {
          "output_type": "stream",
          "name": "stdout",
          "text": [
            "Files already downloaded and verified\n",
            "Files already downloaded and verified\n"
          ]
        }
      ]
    },
    {
      "cell_type": "code",
      "source": [
        "# Plot some images\n",
        "nx = 6\n",
        "ny = 6\n",
        "fig, ax = plt.subplots(nx, ny, figsize=(10,10))\n",
        "for i in range(nx):\n",
        "  for j in range(ny):\n",
        "    ax[i][j].imshow(train_set.data[i*nx+j])\n",
        "    ax[i][j].axis('off')\n",
        "    ax[i][j].set_title(classes[train_set.targets[i*nx+j]],\n",
        "                       fontsize=14)"
      ],
      "metadata": {
        "id": "s8unEJetves9"
      },
      "execution_count": null,
      "outputs": []
    },
    {
      "cell_type": "code",
      "source": [
        "# Your code to check the proportions of images in each class"
      ],
      "metadata": {
        "id": "vfSX5Mp2wQJl"
      },
      "execution_count": null,
      "outputs": []
    },
    {
      "cell_type": "markdown",
      "source": [
        "# Training loop\n",
        "\n",
        "The basic network is a small neural network made of one layer with 1000 neurons."
      ],
      "metadata": {
        "id": "TzAX5VGHwJtp"
      }
    },
    {
      "cell_type": "markdown",
      "source": [
        "4. Draw the diagram of the networks declared in the code below. How many parameters does it have?"
      ],
      "metadata": {
        "id": "3GaBDd7twj2N"
      }
    },
    {
      "cell_type": "markdown",
      "source": [
        "The model is specified for you. Now you have to train it on the training data using the backpropagation algorithm and stochastic gradient descent.\n",
        "\n",
        "5. Remind how SGD works.\n",
        "\n",
        "6. Specify a loss function and an optimization procedure. In our case, we'll use the [cross-entropy loss](https://pytorch.org/docs/stable/generated/torch.nn.CrossEntropyLoss.html) together with the [SGD optimizer](https://pytorch.org/docs/stable/generated/torch.optim.SGD.html). Set the learning rate to 0.01 and the momentum to 0.9.\n"
      ],
      "metadata": {
        "id": "Hs6kycZJw2kU"
      }
    },
    {
      "cell_type": "code",
      "execution_count": null,
      "metadata": {
        "id": "kywOqp2Au9em"
      },
      "outputs": [],
      "source": [
        "# define network structure\n",
        "net = nn.Sequential(nn.Linear(3 * 32 * 32, 1000), nn.ReLU(), nn.Linear(1000, 10))\n",
        "criterion = # LOSS FUNCTION\n",
        "optimizer = # OPTIMIZER\n",
        "\n",
        "# === Train === ###\n",
        "net.train()\n",
        "\n",
        "# train loop\n",
        "for epoch in range(3):\n",
        "    train_correct = 0\n",
        "    train_loss = 0\n",
        "    print('Epoch {}'.format(epoch))\n",
        "\n",
        "    # loop per epoch\n",
        "    for i, (batch, targets) in enumerate(train_loader):\n",
        "\n",
        "        output = net(batch)\n",
        "        loss = criterion(output, targets)\n",
        "\n",
        "        optimizer.zero_grad()\n",
        "        loss.backward()\n",
        "        optimizer.step()\n",
        "\n",
        "        pred = output.max(1, keepdim=True)[1]\n",
        "        train_correct += pred.eq(targets.view_as(pred)).sum().item()\n",
        "        train_loss += loss\n",
        "\n",
        "        if i % 100 == 10: print('Train loss {:.4f}, Train accuracy {:.2f}%'.format(\n",
        "            train_loss / (i * 64), 100 * train_correct / (i * 64)))\n",
        "\n",
        "print('End of training.\\n')\n",
        "\n",
        "# === Test === ###\n",
        "test_correct = 0\n",
        "net.eval()\n",
        "\n",
        "# loop, over whole test set\n",
        "for i, (batch, targets) in enumerate(test_loader):\n",
        "\n",
        "    output = net(batch)\n",
        "    pred = output.max(1, keepdim=True)[1]\n",
        "    test_correct += pred.eq(targets.view_as(pred)).sum().item()\n",
        "\n",
        "print('End of testing. Test accuracy {:.2f}%'.format(\n",
        "    100 * test_correct / (len(test_loader) * 64)))"
      ]
    },
    {
      "cell_type": "markdown",
      "source": [
        "Training loop over CIFAR10 (40,000 train images, 10,000 test images). What happens if you\n",
        "- switch the training to a GPU? Is it faster?\n",
        "- Remove the `ReLU()`?\n",
        "- Increase the learning rate?\n",
        "- Stack more layers?\n",
        "- Perform more epochs?\n",
        "\n",
        "The goal is to completely overfit the training set (i.e. get 100% accuracy?)\n",
        "\n",
        "This code is highly non-modulable. Create functions for each specific task.\n",
        "(hint: see [this](https://github.com/pytorch/examples/blob/master/mnist/main.py))\n",
        "\n",
        "Your training went well. Good. Why not save the weights of the network (`net.state_dict()`) using `torch.save()`?"
      ],
      "metadata": {
        "id": "kW6Z95QhyFxN"
      }
    },
    {
      "cell_type": "markdown",
      "source": [
        "7. Create a function `train` and `test`."
      ],
      "metadata": {
        "id": "NH3Z5ZIQynkk"
      }
    },
    {
      "cell_type": "code",
      "source": [
        "# Your code of the functions train and test"
      ],
      "metadata": {
        "id": "hDSjqnc03SFA"
      },
      "execution_count": null,
      "outputs": []
    },
    {
      "cell_type": "markdown",
      "source": [
        "8. Train a model on the CPU and one on on the GPU. Compare the running times."
      ],
      "metadata": {
        "id": "Aq7vUIyWzORc"
      }
    },
    {
      "cell_type": "code",
      "execution_count": null,
      "metadata": {
        "id": "uPT1qarBu9eq"
      },
      "outputs": [],
      "source": [
        "# Your code to compare CPU and GPU"
      ]
    },
    {
      "cell_type": "markdown",
      "source": [
        "9. Remove the ReLU activation. What becomes the network in this case? Compute and comments the performances."
      ],
      "metadata": {
        "id": "qJrClitHzxGD"
      }
    },
    {
      "cell_type": "code",
      "execution_count": null,
      "metadata": {
        "id": "-i5PI293u9er"
      },
      "outputs": [],
      "source": [
        "# Your code to compare the ReLU and no ReLU networks"
      ]
    },
    {
      "cell_type": "markdown",
      "source": [
        "10. Change the learning rate. Comment."
      ],
      "metadata": {
        "id": "N7Mq5iUH12Rr"
      }
    },
    {
      "cell_type": "code",
      "source": [
        "# Your code to compare learning rates"
      ],
      "metadata": {
        "id": "LzV-80xv15OU"
      },
      "execution_count": null,
      "outputs": []
    },
    {
      "cell_type": "markdown",
      "source": [
        "11. Add more layers. Comment."
      ],
      "metadata": {
        "id": "Qafl7jQ_183N"
      }
    },
    {
      "cell_type": "code",
      "source": [
        "# Your code to add more layers to the network"
      ],
      "metadata": {
        "id": "pP1w4RdR2CXM"
      },
      "execution_count": null,
      "outputs": []
    },
    {
      "cell_type": "markdown",
      "source": [
        "12. Try to make the network completely fit the training set. What can you do for that? Try it!"
      ],
      "metadata": {
        "id": "nTQrbQzu2E0X"
      }
    },
    {
      "cell_type": "code",
      "execution_count": null,
      "metadata": {
        "id": "00A5_LxCu9eu"
      },
      "outputs": [],
      "source": [
        "# Your code to make the network overfits completely"
      ]
    }
  ],
  "metadata": {
    "kernelspec": {
      "display_name": "dldiy",
      "language": "python",
      "name": "dldiy"
    },
    "language_info": {
      "codemirror_mode": {
        "name": "ipython",
        "version": 3
      },
      "file_extension": ".py",
      "mimetype": "text/x-python",
      "name": "python",
      "nbconvert_exporter": "python",
      "pygments_lexer": "ipython3",
      "version": "3.8.2"
    },
    "colab": {
      "provenance": []
    }
  },
  "nbformat": 4,
  "nbformat_minor": 0
}