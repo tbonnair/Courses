{
 "cells": [
  {
   "cell_type": "markdown",
   "metadata": {
    "id": "RtFIen19WOu1"
   },
   "source": [
    "Collab link: https://colab.research.google.com/drive/1a0ch555JrmD0c2EWzbFUtL2wmZGuwAHP?usp=sharing\n",
    "\n",
    "# Scientific context of the problem\n",
    "\n",
    "High-energy physics, and more particularly the particle physics field, aims at establishing the elementary constituents of matter. This is usually achieved through protons and antiprotons collisions experiments in circular or linear accelerators to produce new, or \"exotic\" particles. The low ratio of creation of these new particles ($300$ for $10^{11}$ collisions in the case of the Higgs Boson for instance), and their quick decay into a different particle make their detection a very non-trivial task.\n",
    "\n",
    "In this sense, and given the limited amount of data together with their expensive nature (both in terms of money and time), it is crucial to detect accurately true detections from noisy, background ones.\n",
    "\n",
    "To this end, machine learning algorithms have been shown useful during the past decade and this notebook aims at developping and analysing some ML approaches to solve this binary (or two-class) classification problem.\n",
    "\n",
    "**Reference**: this problem is based on [Baldi et al., Searching for exotic particles in high-energy physics with deep learning, Nature, 2014](https://www.nature.com/articles/ncomms5308)."
   ]
  },
  {
   "cell_type": "markdown",
   "metadata": {
    "id": "cHEsjsf4DMq8"
   },
   "source": [
    "# The data\n",
    "\n",
    "In this problem, we consider a subset of the [SUSY](https://archive.ics.uci.edu/dataset/279/susy#) dataset (you don't need to download it). It consists in Monte-Carlo simulated data aiming at benchmarking algorithms to differentiate between collisions creating symmetric (exotic) particles and collisions creating standard model particles.\n",
    "\n",
    "The data are arranged in 8 features representing kinematic properties measured by the accelerator sensors. Based on these features, the aim is to implement and compare several machine learning models.\n",
    "\n",
    "1. What is the machine learning family this problem is about? What is the nature of the input data?\n",
    "\n",
    "2. Enumerate some methods that could be used for such a task."
   ]
  },
  {
   "cell_type": "markdown",
   "metadata": {
    "id": "5tb5ItMEVYEI"
   },
   "source": [
    "# Prerequisites\n",
    "\n",
    "3. Import the necessary packages, in particular, we will use:\n",
    "> * [`matplotlib`](https://matplotlib.org/) for data visualisation and plots,\n",
    "> * [`numpy`](https://numpy.org/) for standard numerical operations and algebra,\n",
    "> * [`pandas`](https://pandas.pydata.org/) for data analysis,\n",
    "> * [`scikit-learn`](https://scikit-learn.org/stable/) for ML algorithms and related functions used for model selection or data pre-processing."
   ]
  },
  {
   "cell_type": "code",
   "execution_count": 1,
   "metadata": {
    "executionInfo": {
     "elapsed": 4868,
     "status": "ok",
     "timestamp": 1728287091342,
     "user": {
      "displayName": "Tony",
      "userId": "03188807958140873473"
     },
     "user_tz": -120
    },
    "id": "Xj4fjZv1VXRx"
   },
   "outputs": [],
   "source": [
    "import pandas                       # For data management\n",
    "import matplotlib.pyplot as plt     # For plotting\n",
    "import matplotlib as mpl            # For plotting setup\n",
    "import numpy as np                  # For numerical calculations\n",
    "import sklearn                      # Machine learning library\n",
    "from sklearn import model_selection # For splitting the data into train/test\n",
    "from sklearn import tree            # For decision trees\n",
    "\n",
    "# Formatting the plots\n",
    "plt.rcParams['figure.figsize'] = [6,6]\n",
    "plt.rcParams['font.size'] = 18\n",
    "plt.rcParams['font.weight'] = 'normal'\n",
    "plt.style.use('default')\n",
    "mpl.rcParams['mathtext.fontset'] = 'cm'\n",
    "mpl.rcParams['mathtext.rm'] = 'serif'\n",
    "mpl.rcParams['font.size'] = 22\n",
    "mpl.rcParams['axes.formatter.limits'] = (-6, 6)\n",
    "mpl.rcParams['axes.formatter.use_mathtext'] = True\n",
    "mpl.rcParams['font.family'] = 'STIXGeneral'\n",
    "mpl.rcParams['mathtext.rm'] = 'Bitstream Vera Sans'\n",
    "mpl.rcParams['mathtext.it'] = 'Bitstream Vera Sans:italic'\n",
    "mpl.rcParams['mathtext.bf'] = 'Bitstream Vera Sans:bold'\n",
    "mpl.rcParams['xtick.minor.visible'] = True\n",
    "mpl.rcParams['ytick.minor.visible'] = True"
   ]
  },
  {
   "cell_type": "markdown",
   "metadata": {
    "id": "sqcmy56HV-Jv"
   },
   "source": [
    "4. To download the subset of the SUSY dataset we'll use in this notebook, you can download it using the following code, or by downloading it from [my Github](https://github.com/tbonnair/Machine-Learning-Principles-with-Applications-in-Physics). The filename is `SUSY_subset_f1.csv.zip` that you'll have to unzip."
   ]
  },
  {
   "cell_type": "code",
   "execution_count": null,
   "metadata": {
    "colab": {
     "base_uri": "https://localhost:8080/"
    },
    "executionInfo": {
     "elapsed": 6767,
     "status": "ok",
     "timestamp": 1728287100610,
     "user": {
      "displayName": "Tony",
      "userId": "03188807958140873473"
     },
     "user_tz": -120
    },
    "id": "4DApyDnLWA9K",
    "outputId": "c95b75a3-fe1c-4652-d547-aa7e5ff83a81"
   },
   "outputs": [
    {
     "name": "stdout",
     "output_type": "stream",
     "text": [
      "Cloning into 'ENS_AI_Chemistry'...\n",
      "remote: Enumerating objects: 77, done.\u001b[K\n",
      "remote: Total 77 (delta 0), reused 0 (delta 0), pack-reused 77 (from 1)\u001b[K\n",
      "Receiving objects: 100% (77/77), 36.82 MiB | 14.24 MiB/s, done.\n",
      "Resolving deltas: 100% (15/15), done.\n"
     ]
    }
   ],
   "source": [
    "!git clone https://github.com/tbonnair/ENS_AI_Chemistry.git/\n",
    "!unzip -q  'ENS_AI_Chemistry/2025-2026/Hands-on/data/SUSY_subset_f1.csv.zip'"
   ]
  },
  {
   "cell_type": "markdown",
   "metadata": {
    "id": "HpPQ4X47WDZg"
   },
   "source": [
    "# Loading, exploring, and preparing the data\n",
    "\n",
    "5. Load the data using the `pandas` dataset."
   ]
  },
  {
   "cell_type": "code",
   "execution_count": 3,
   "metadata": {
    "executionInfo": {
     "elapsed": 1501,
     "status": "ok",
     "timestamp": 1728287104201,
     "user": {
      "displayName": "Tony",
      "userId": "03188807958140873473"
     },
     "user_tz": -120
    },
    "id": "ShFaJmILWSbd"
   },
   "outputs": [],
   "source": [
    "datapath = 'SUSY_subset_f1.csv'\n",
    "dataset = pandas.read_csv(datapath)"
   ]
  },
  {
   "cell_type": "markdown",
   "metadata": {
    "id": "FqpvhFw5WhNh"
   },
   "source": [
    "6. Explore the data (how many events are there, what are the features, etc.) using the `pandas` library. What is the name of the key we want to predict? To access a given key (column), you can use `dataset['keyname']`."
   ]
  },
  {
   "cell_type": "code",
   "execution_count": null,
   "metadata": {
    "colab": {
     "base_uri": "https://localhost:8080/",
     "height": 201
    },
    "executionInfo": {
     "elapsed": 886,
     "status": "ok",
     "timestamp": 1728287108331,
     "user": {
      "displayName": "Tony",
      "userId": "03188807958140873473"
     },
     "user_tz": -120
    },
    "id": "kXzcNvSuWw5C",
    "outputId": "22fc7b22-24c5-43cf-c72c-716d4e8774b0"
   },
   "outputs": [],
   "source": [
    "# Your code to explore the data"
   ]
  },
  {
   "cell_type": "markdown",
   "metadata": {
    "id": "fZG1HayxXPH0"
   },
   "source": [
    "7. Check the proportion of events in the two classes."
   ]
  },
  {
   "cell_type": "code",
   "execution_count": null,
   "metadata": {
    "id": "c_NXqGZjYz7M"
   },
   "outputs": [],
   "source": [
    "# Your code"
   ]
  },
  {
   "cell_type": "markdown",
   "metadata": {
    "id": "uA8K330XXnul"
   },
   "source": [
    "8. Arange the data into a feature matrix $\\boldsymbol{X}$ and a target vector $\\boldsymbol{y}$. Then, prepare the dataset and split it into 80% training and 20% test using the scikit-learn [`train_test_split`](https://scikit-learn.org/stable/modules/generated/sklearn.model_selection.train_test_split.html) function. **Remind the role of the train and test sets.**"
   ]
  },
  {
   "cell_type": "code",
   "execution_count": null,
   "metadata": {
    "id": "N_r9PNdtX-d2"
   },
   "outputs": [],
   "source": [
    "# Your code to arange the data"
   ]
  },
  {
   "cell_type": "markdown",
   "metadata": {
    "id": "CjEIkAXbcnML"
   },
   "source": [
    "# A first model: decision tree\n",
    "\n",
    "Now the data are ready to be used for training, let us build a first model: a decision tree.\n",
    "\n",
    "9. Using the scikit-learn documentation, find how to fit a Decision Tree with a maximum depth of 15 and using the entropy loss on the training dataset."
   ]
  },
  {
   "cell_type": "code",
   "execution_count": null,
   "metadata": {
    "id": "3owrpRHtdITu"
   },
   "outputs": [],
   "source": [
    "# Your code to build and fit a decision tree on the training set"
   ]
  },
  {
   "cell_type": "markdown",
   "metadata": {
    "id": "BhD_Tun_eZuH"
   },
   "source": [
    "10. Test your model on the test dataset and look at the obtained score."
   ]
  },
  {
   "cell_type": "code",
   "execution_count": null,
   "metadata": {
    "id": "2CbievL9eZf8"
   },
   "outputs": [],
   "source": [
    "# Your code for the prediction on the test set"
   ]
  },
  {
   "cell_type": "markdown",
   "metadata": {
    "id": "4IVVeODoeuud"
   },
   "source": [
    "11. Tune the hyperparameter of the maximum depth. To this end, split the training data again into two parts: a training dataset and a validation dataset. Then, find the hyperparameter having the best score on the validation set with depth in the range [1, 20]."
   ]
  },
  {
   "cell_type": "code",
   "execution_count": null,
   "metadata": {
    "id": "dAOeV8GFgtym"
   },
   "outputs": [],
   "source": [
    "# Your code"
   ]
  },
  {
   "cell_type": "markdown",
   "metadata": {
    "id": "vU_Y_y5WjLCw"
   },
   "source": [
    "12. Intepret the evolution of the validation score when varying the maximum depth: how does the validation error behaves and why? (To help you, you can also store and visualise the evolution of the training error in addition to validation error.)"
   ]
  },
  {
   "cell_type": "markdown",
   "metadata": {
    "id": "P0P3GZWforIq"
   },
   "source": [
    "Additional: You can also explore how your decision tree is classifying your data by using the [`plot_tree`](https://scikit-learn.org/stable/modules/generated/sklearn.tree.plot_tree.html) function from scikit-learn."
   ]
  },
  {
   "cell_type": "markdown",
   "metadata": {
    "id": "k6ErNvwgg7y7"
   },
   "source": [
    "# Improving the model with more trees: random forest\n",
    "\n",
    "13. Remind the principle behind random forests.\n",
    "\n",
    "\n",
    "14. Using the scikit-learn documentation, fit a random forest to the training data with a number of trees of 20 and a maximum depth of 15. Compare this setup with our first decision tree."
   ]
  },
  {
   "cell_type": "code",
   "execution_count": null,
   "metadata": {
    "id": "zymb004tlIJV"
   },
   "outputs": [],
   "source": [
    "# Your random forest fit"
   ]
  },
  {
   "cell_type": "markdown",
   "metadata": {
    "id": "tQs1FtY7k_Eb"
   },
   "source": [
    "15. Repeat the hyperparameter tuning for tuning the number of trees in [1, 50] at fixed maximum depth = 15 to find the best random forest model for our data."
   ]
  },
  {
   "cell_type": "code",
   "execution_count": null,
   "metadata": {
    "id": "5K8BxGdYpJLN"
   },
   "outputs": [],
   "source": [
    "# Your tuning of the number of trees"
   ]
  },
  {
   "cell_type": "markdown",
   "metadata": {
    "id": "YUqZ_GRTx32Z"
   },
   "source": [
    "16. Does the curve showing the evolution of the test error look the same as previously with the decision tree depth? Why?\n",
    "\n",
    "17. What other tree-based method could you use to solve this classification task? Check it out on scikit-learn."
   ]
  },
  {
   "cell_type": "markdown",
   "metadata": {
    "id": "kk6WtTUWjocs"
   },
   "source": [
    "# Importance of hand-crafted features\n",
    "\n",
    "For such models that do not learn new features from the data, hand-crafted can matter a lot for the performance.\n",
    "This is in fact what the authors releasing the SUSY dataset did by providing additionally 10 hand-crafted features that are functions of the eight first obtained directly from the sensors.\n",
    "\n",
    "18. Download the new dataset and explore the new data as before.\n"
   ]
  },
  {
   "cell_type": "code",
   "execution_count": null,
   "metadata": {
    "colab": {
     "base_uri": "https://localhost:8080/"
    },
    "executionInfo": {
     "elapsed": 5331,
     "status": "ok",
     "timestamp": 1726053880209,
     "user": {
      "displayName": "Tony",
      "userId": "03188807958140873473"
     },
     "user_tz": -120
    },
    "id": "yNpAiuwQCkbF",
    "outputId": "883908e0-f9fb-4fce-956d-ceae5739f3f5"
   },
   "outputs": [
    {
     "name": "stdout",
     "output_type": "stream",
     "text": [
      "replace SUSY_subset2_all_features.csv? [y]es, [n]o, [A]ll, [N]one, [r]ename: y\n",
      "replace __MACOSX/._SUSY_subset2_all_features.csv? [y]es, [n]o, [A]ll, [N]one, [r]ename: y\n"
     ]
    }
   ],
   "source": [
    "!unzip -q  '/content/Machine-Learning-Principles-with-Applications-in-Physics/2024-2025/Hands-on/data/SUSY_subset2_all_features.csv.zip'\n",
    "datapath2 = 'SUSY_subset2_all_features.csv'\n",
    "dataset2 = pandas.read_csv(datapath2)"
   ]
  },
  {
   "cell_type": "code",
   "execution_count": null,
   "metadata": {
    "colab": {
     "base_uri": "https://localhost:8080/"
    },
    "collapsed": true,
    "executionInfo": {
     "elapsed": 271,
     "status": "ok",
     "timestamp": 1726053884011,
     "user": {
      "displayName": "Tony",
      "userId": "03188807958140873473"
     },
     "user_tz": -120
    },
    "id": "ASQfjGDFWcAt",
    "outputId": "afdfe245-6cb6-4c3b-fb2f-6a7e5c1d1244"
   },
   "outputs": [
    {
     "name": "stdout",
     "output_type": "stream",
     "text": [
      "<class 'pandas.core.frame.DataFrame'>\n",
      "RangeIndex: 100000 entries, 0 to 99999\n",
      "Data columns (total 19 columns):\n",
      " #   Column  Non-Null Count   Dtype  \n",
      "---  ------  --------------   -----  \n",
      " 0   0       100000 non-null  float64\n",
      " 1   1       100000 non-null  float64\n",
      " 2   2       100000 non-null  float64\n",
      " 3   3       100000 non-null  float64\n",
      " 4   4       100000 non-null  float64\n",
      " 5   5       100000 non-null  float64\n",
      " 6   6       100000 non-null  float64\n",
      " 7   7       100000 non-null  float64\n",
      " 8   8       100000 non-null  float64\n",
      " 9   9       100000 non-null  float64\n",
      " 10  10      100000 non-null  float64\n",
      " 11  11      100000 non-null  float64\n",
      " 12  12      100000 non-null  float64\n",
      " 13  13      100000 non-null  float64\n",
      " 14  14      100000 non-null  float64\n",
      " 15  15      100000 non-null  float64\n",
      " 16  16      100000 non-null  float64\n",
      " 17  17      100000 non-null  float64\n",
      " 18  18      100000 non-null  float64\n",
      "dtypes: float64(19)\n",
      "memory usage: 14.5 MB\n",
      "None\n"
     ]
    }
   ],
   "source": [
    "print(dataset2.info())"
   ]
  },
  {
   "cell_type": "markdown",
   "metadata": {
    "id": "HhN9Lymo5rpk"
   },
   "source": [
    "19. Fit a random forest on the full set of features and compare the obtained results with the previous features."
   ]
  },
  {
   "cell_type": "code",
   "execution_count": null,
   "metadata": {
    "id": "5ASCaWagTZ-5"
   },
   "outputs": [],
   "source": [
    "# Your random forest fit on the whole set of features\n"
   ]
  },
  {
   "cell_type": "markdown",
   "metadata": {
    "id": "tk133qax5N0n"
   },
   "source": [
    "# Going further (if time)"
   ]
  },
  {
   "cell_type": "markdown",
   "metadata": {
    "id": "YAFACoShtmwH"
   },
   "source": [
    "## Feed-forward neural network\n",
    "As said before, hand-crafted features can help but require expertise and knowledge to be built. One way to extract interesting features automatically from the first 8 could be to train a feed-forward neural network and see if it can outperform the results of the (already satisfactory) random forest.\n",
    "\n",
    "To do so, we can use [`PyTorch`](https://pytorch.org/)  and implement a small feed forward neural networks."
   ]
  },
  {
   "cell_type": "markdown",
   "metadata": {
    "id": "GbzizfAvW-Rq"
   },
   "source": [
    "20. Import the necessary packages from PyTorch"
   ]
  },
  {
   "cell_type": "code",
   "execution_count": null,
   "metadata": {
    "cellView": "form",
    "id": "bvjvH-w3VI57"
   },
   "outputs": [],
   "source": [
    "# @title\n",
    "# Import and setup\n",
    "\n",
    "# Neural network useful packages from PyTorch and sklearn\n",
    "import torch\n",
    "from torch import nn\n",
    "import torch.optim as optim\n",
    "from sklearn.utils import shuffle # For shuffling the data\n",
    "\n",
    "device_cuda = 'cpu'  # We'll use the CPU for the computation\n",
    "\n",
    "labels_features = dataset.keys()[1::]   # Labels of the feature in the dataset\n",
    "label_pred = dataset.keys()[0]          # Label of the predicition\n",
    "\n",
    "X = dataset[labels_features]\n",
    "y = dataset[label_pred]\n",
    "\n",
    "X_train, X_test, y_train, y_test = model_selection.train_test_split(X, y, test_size=0.2, random_state=102)"
   ]
  },
  {
   "cell_type": "markdown",
   "metadata": {
    "id": "zaqLq4-wgzIb"
   },
   "source": [
    "Before doing anything, we need to recast the data into a PyTorch format and standardize them."
   ]
  },
  {
   "cell_type": "code",
   "execution_count": null,
   "metadata": {
    "cellView": "form",
    "id": "OJONKuQ7g7Wq"
   },
   "outputs": [],
   "source": [
    "# @title\n",
    "# Standardization\n",
    "X_train_tensor = torch.tensor(X_train.values, dtype=torch.float32)\n",
    "y_train_tensor = torch.tensor(y_train.values, dtype=torch.float32).reshape(-1,1)\n",
    "\n",
    "X_test_tensor = torch.tensor(X_test.values, dtype=torch.float32)\n",
    "y_test_tensor = torch.tensor(y_test.values, dtype=torch.float32).reshape(-1,1)\n",
    "\n",
    "means = X_train_tensor.mean(dim=1, keepdim=True)\n",
    "stds = X_train_tensor.std(dim=1, keepdim=True)\n",
    "X_train_tensor = (X_train_tensor - means) / stds\n",
    "\n",
    "means = X_test_tensor.mean(dim=1, keepdim=True)\n",
    "stds = X_test_tensor.std(dim=1, keepdim=True)\n",
    "X_test_tensor = (X_test_tensor - means) / stds\n",
    "\n",
    "print(f'Mean = {X_train_tensor.mean()}')\n",
    "print(f'Std = {X_train_tensor.std()}')"
   ]
  },
  {
   "cell_type": "markdown",
   "metadata": {
    "id": "G2IY1dxhXVVi"
   },
   "source": [
    "In PyTorch, a model can be specified as a sequence of several layers. All the possible layers proposed by PyTorch are listed [here](https://pytorch.org/docs/stable/nn.html#linear-layers).\n",
    "\n",
    "To implement a new model, one needs to create an object `nn.Sequential` and specify the layers successively with their input/output sizes.\n",
    "\n",
    "20. Specify a network with 3 hidden layers, ReLU activations, and 100 hidden neurons in each hidden layers. The final layer will be of size one with a Sigmoid activation function. To help you, you can draw the diagram of this neural network."
   ]
  },
  {
   "cell_type": "code",
   "execution_count": null,
   "metadata": {
    "collapsed": true,
    "id": "TlLnn2-OXT1q"
   },
   "outputs": [],
   "source": [
    "# @title\n",
    "neural_net = nn.Sequential(\n",
    "    # Build your layers\n",
    ")\n",
    "\n",
    "#print(neural_net)"
   ]
  },
  {
   "cell_type": "markdown",
   "metadata": {
    "id": "P6nJorSUcv4E"
   },
   "source": [
    "Note there is a cleaner way of defining the neural network models in PyTorch by defining a subclass of `nn.Module` and creating two functions: an `__init__(self)` function specifying the layers, and a `forward(self)` function specifying how a data is propagating throughout the network. You can have a look at [this link](https://pytorch.org/tutorials/beginner/basics/buildmodel_tutorial.html)."
   ]
  },
  {
   "cell_type": "markdown",
   "metadata": {
    "id": "mvpOOJRbcvge"
   },
   "source": [
    "21. Specify a loss function and an optimization procedure. In our case, we'll use the binary cross-entropy loss together with the [`SGD optimizer`](https://pytorch.org/docs/stable/generated/torch.optim.SGD.html). Set the learning rate to 0.02."
   ]
  },
  {
   "cell_type": "code",
   "execution_count": null,
   "metadata": {
    "id": "FlfzgYGDdlDt"
   },
   "outputs": [],
   "source": [
    "# @title\n",
    "loss_fn = nn.BCELoss()  # binary cross entropy loss function\n",
    "optimizer = optim.SGD(neural_net.parameters(), lr=0.02)"
   ]
  },
  {
   "cell_type": "markdown",
   "metadata": {
    "id": "0XOFGD8-d3J1"
   },
   "source": [
    "To train our neural network, we use the backpropagation algorithm and the stochastic gradient descent method.\n",
    "\n",
    "22. Remind how stochastic gradient descent works.\n",
    "\n",
    "23. Train the neural network for 20 epochs using a batch size of 32. To do this, you can use two loops, one for the epochs, one for the batches.\n",
    "To compute and update the gradient, there are four steps:\n",
    "> * First compute the loss on the batch,\n",
    "> * Clean your optimizer using the [`optimizer.zero_grad()`](https://pytorch.org/docs/stable/generated/torch.optim.Optimizer.zero_grad.html) function,\n",
    "> * Call the [`backward()`](https://pytorch.org/docs/stable/generated/torch.Tensor.backward.html) function of the loss to compute the gradient,\n",
    "> * Make a step in the opposite gradient direction using the [`optimizer.step()`](https://pytorch.org/docs/stable/generated/torch.optim.Optimizer.step.html) function.\n",
    "\n",
    "Note: to shuffle the dataset, you can use the [`shuffle`](https://scikit-learn.org/stable/modules/generated/sklearn.utils.shuffle.html) method from scikit-learn."
   ]
  },
  {
   "cell_type": "code",
   "execution_count": null,
   "metadata": {
    "collapsed": true,
    "id": "KqbYOvSVd-gJ"
   },
   "outputs": [],
   "source": [
    "# @title\n",
    "n_epochs = 20\n",
    "batch_size = 32\n",
    "n_batches = int(len(X_train_tensor) / batch_size)\n",
    "print(n_batches)\n",
    "\n",
    "# Your code for optimization"
   ]
  },
  {
   "cell_type": "markdown",
   "metadata": {
    "id": "3TD_5pnQl9T1"
   },
   "source": [
    "We see that in 20 epochs with a simple feed-forward neural networks made of 3 hidden layers, we achieve a slightly poorer performance than the random forest applied on the set of basic features.\n",
    "\n",
    "This shows that the feed-forward neural network needs some fine-tuning to perform better. To explore that, you can play with the code and tune hyperparameters, add fancy tuning like dropping, weight decay, momentum, or regularization.\n",
    "\n",
    "You can also go and use the full dataset provided in the seminal papers which is in fact made of millions of events, not just $10^5$ that could help your neural network converge to better solutions."
   ]
  },
  {
   "cell_type": "markdown",
   "metadata": {
    "id": "dtqfbpt5U8fG"
   },
   "source": [
    "## Randomized search for hyperparameter tuning\n",
    "In our examples, we always focus on one hyperparameter at a time. In fact, using scikit-learn you can specify several ranges for your hyperparameters and test them randomly to find the association of parameters using randomized search or grid search cross-validation. Randomized search is more efficient numerically but is not leading you to the best possible set of parameters, while grid search consists in an exhaustive search in your pre-defined ranges for parameters. Here we illustrate it with randomized search."
   ]
  },
  {
   "cell_type": "code",
   "execution_count": null,
   "metadata": {
    "cellView": "form",
    "id": "26KLjHfMtnWZ"
   },
   "outputs": [],
   "source": [
    "# @title\n",
    "from sklearn.model_selection import RandomizedSearchCV\n",
    "\n",
    "# define range of values for each hyperparameter\n",
    "hyperparameters_range = [{\n",
    "        \"n_estimators\": [1, 5, 10, 20, 40],       # Number of trees\n",
    "        \"max_features\": [0.5, 1.0, \"sqrt\", \"log2\"],  # Proportion of the features used for training you RFs\n",
    "        \"max_depth\": [5, 10, 15, 20],  # Maximum depth of the trees trained in RFs\n",
    "    }]\n",
    "\n",
    "# Create a base model\n",
    "RF = RandomForestClassifier(n_estimators=20, max_depth=15, n_jobs=-1)\n",
    "\n",
    "# Random search with cross validation\n",
    "RF_CV = RandomizedSearchCV(\n",
    "    RF, param_distributions=hyperparameters_range, cv=5)\n",
    "\n",
    "# Fit the search\n",
    "RF_CV.fit(X_train, y_train)"
   ]
  },
  {
   "cell_type": "markdown",
   "metadata": {
    "id": "TTWduVq1xKTZ"
   },
   "source": [
    "You can now select the best model and test it."
   ]
  },
  {
   "cell_type": "code",
   "execution_count": null,
   "metadata": {
    "cellView": "form",
    "collapsed": true,
    "id": "FsOC4p_nw75x"
   },
   "outputs": [],
   "source": [
    "# @title\n",
    "print(RF_CV.best_params_)         # Prints the best parameters\n",
    "RF_best = RF_CV.best_estimator_   # Select the best model\n",
    "RF_best.score(X_test, y_test)     # Test dataset"
   ]
  },
  {
   "cell_type": "markdown",
   "metadata": {
    "id": "EP-12v-DWDZP"
   },
   "source": [
    "You could do similarly with the [`GridSearchCV`](https://scikit-learn.org/stable/modules/generated/sklearn.model_selection.GridSearchCV.html) function from scikit-learn to perform grid search cross-validation for tuning your hyperparameters."
   ]
  }
 ],
 "metadata": {
  "colab": {
   "authorship_tag": "ABX9TyN8dBuaiwjVnkkl3iWDJi9D",
   "provenance": [
    {
     "file_id": "1Rkc1NnCUs3Lg7OzNhF1eH05BQr_Y4rMd",
     "timestamp": 1695108330081
    }
   ]
  },
  "kernelspec": {
   "display_name": "Python 3",
   "name": "python3"
  },
  "language_info": {
   "name": "python"
  }
 },
 "nbformat": 4,
 "nbformat_minor": 0
}
